{
 "cells": [
  {
   "cell_type": "code",
   "execution_count": 1,
   "id": "244cb0c7",
   "metadata": {
    "execution": {
     "iopub.execute_input": "2023-04-20T19:50:09.689254Z",
     "iopub.status.busy": "2023-04-20T19:50:09.688717Z",
     "iopub.status.idle": "2023-04-20T19:50:14.195527Z",
     "shell.execute_reply": "2023-04-20T19:50:14.194379Z"
    },
    "papermill": {
     "duration": 4.518496,
     "end_time": "2023-04-20T19:50:14.198515",
     "exception": false,
     "start_time": "2023-04-20T19:50:09.680019",
     "status": "completed"
    },
    "tags": []
   },
   "outputs": [],
   "source": [
    "from fastai.vision.all import *\n",
    "from pathlib import Path\n",
    "import h5py\n",
    "from matplotlib import cm\n",
    "import PIL\n",
    "\n",
    "import os\n",
    "kaggle = os.environ.get('KAGGLE_KERNEL_RUN_TYPE', '')"
   ]
  },
  {
   "cell_type": "code",
   "execution_count": 2,
   "id": "328b3ad6",
   "metadata": {
    "execution": {
     "iopub.execute_input": "2023-04-20T19:50:14.208373Z",
     "iopub.status.busy": "2023-04-20T19:50:14.208059Z",
     "iopub.status.idle": "2023-04-20T19:50:14.258412Z",
     "shell.execute_reply": "2023-04-20T19:50:14.257384Z"
    },
    "papermill": {
     "duration": 0.057634,
     "end_time": "2023-04-20T19:50:14.260528",
     "exception": false,
     "start_time": "2023-04-20T19:50:14.202894",
     "status": "completed"
    },
    "tags": []
   },
   "outputs": [],
   "source": [
    "path = '/kaggle/input/jet-images-train-val-test/jet-images_val.hdf5'\n",
    "classes = [\"general\", \"W-boson\"]\n",
    "    \n",
    "h5_file = h5py.File(path, 'r')\n",
    "signal_data = h5_file['signal']\n",
    "image_data = h5_file['image']\n",
    "\n",
    "def label_func(x):\n",
    "    signal = signal_data[int(x)]\n",
    "    return classes[int(signal)]\n",
    "\n",
    "def get_items(x):\n",
    "    l = len(image_data)\n",
    "    return [str(i) for i in range(l)]\n",
    "\n",
    "def get_x(x):\n",
    "    return torch.from_numpy(image_data[int(x)])\n"
   ]
  },
  {
   "cell_type": "code",
   "execution_count": 3,
   "id": "9a56d37d",
   "metadata": {
    "execution": {
     "iopub.execute_input": "2023-04-20T19:50:14.269612Z",
     "iopub.status.busy": "2023-04-20T19:50:14.269318Z",
     "iopub.status.idle": "2023-04-20T19:50:14.276256Z",
     "shell.execute_reply": "2023-04-20T19:50:14.275199Z"
    },
    "papermill": {
     "duration": 0.013785,
     "end_time": "2023-04-20T19:50:14.278297",
     "exception": false,
     "start_time": "2023-04-20T19:50:14.264512",
     "status": "completed"
    },
    "tags": []
   },
   "outputs": [],
   "source": [
    "train_dblock = DataBlock(blocks    = (ImageBlock, CategoryBlock),\n",
    "                   get_items = get_items,\n",
    "                   get_x = get_x,\n",
    "                   get_y     = label_func,\n",
    "                   splitter  = RandomSplitter(valid_pct=0.2, seed=42),\n",
    "                   item_tfms=[Resize(200, method='squish')])"
   ]
  },
  {
   "cell_type": "code",
   "execution_count": 4,
   "id": "89c8e087",
   "metadata": {
    "execution": {
     "iopub.execute_input": "2023-04-20T19:50:14.287931Z",
     "iopub.status.busy": "2023-04-20T19:50:14.287038Z",
     "iopub.status.idle": "2023-04-20T19:50:26.926905Z",
     "shell.execute_reply": "2023-04-20T19:50:26.925900Z"
    },
    "papermill": {
     "duration": 12.647381,
     "end_time": "2023-04-20T19:50:26.929571",
     "exception": false,
     "start_time": "2023-04-20T19:50:14.282190",
     "status": "completed"
    },
    "tags": []
   },
   "outputs": [],
   "source": [
    "dls_train = train_dblock.dataloaders(path)"
   ]
  },
  {
   "cell_type": "code",
   "execution_count": 5,
   "id": "a0cafa09",
   "metadata": {
    "execution": {
     "iopub.execute_input": "2023-04-20T19:50:26.939321Z",
     "iopub.status.busy": "2023-04-20T19:50:26.938991Z",
     "iopub.status.idle": "2023-04-20T19:50:27.402775Z",
     "shell.execute_reply": "2023-04-20T19:50:27.401289Z"
    },
    "papermill": {
     "duration": 0.471059,
     "end_time": "2023-04-20T19:50:27.405061",
     "exception": false,
     "start_time": "2023-04-20T19:50:26.934002",
     "status": "completed"
    },
    "tags": []
   },
   "outputs": [
    {
     "name": "stdout",
     "output_type": "stream",
     "text": [
      "torch.Size([64, 1, 200, 200])\n"
     ]
    }
   ],
   "source": [
    "xb, yb = dls_train.one_batch()\n",
    "print(xb.shape)"
   ]
  },
  {
   "cell_type": "code",
   "execution_count": 6,
   "id": "e2d4d98f",
   "metadata": {
    "execution": {
     "iopub.execute_input": "2023-04-20T19:50:27.415449Z",
     "iopub.status.busy": "2023-04-20T19:50:27.414522Z",
     "iopub.status.idle": "2023-04-20T19:50:28.189340Z",
     "shell.execute_reply": "2023-04-20T19:50:28.188325Z"
    },
    "papermill": {
     "duration": 0.782432,
     "end_time": "2023-04-20T19:50:28.191800",
     "exception": false,
     "start_time": "2023-04-20T19:50:27.409368",
     "status": "completed"
    },
    "tags": []
   },
   "outputs": [
    {
     "data": {
      "image/png": "[encoded data removed]",
      "text/plain": [
       "<Figure size 900x600 with 6 Axes>"
      ]
     },
     "metadata": {},
     "output_type": "display_data"
    }
   ],
   "source": [
    "dls_train.show_batch(max_n=6)"
   ]
  },
  {
   "cell_type": "code",
   "execution_count": 7,
   "id": "5e6d451a",
   "metadata": {
    "execution": {
     "iopub.execute_input": "2023-04-20T19:50:28.202267Z",
     "iopub.status.busy": "2023-04-20T19:50:28.201976Z",
     "iopub.status.idle": "2023-04-20T19:50:29.599108Z",
     "shell.execute_reply": "2023-04-20T19:50:29.598083Z"
    },
    "papermill": {
     "duration": 1.405476,
     "end_time": "2023-04-20T19:50:29.601975",
     "exception": false,
     "start_time": "2023-04-20T19:50:28.196499",
     "status": "completed"
    },
    "tags": []
   },
   "outputs": [
    {
     "name": "stderr",
     "output_type": "stream",
     "text": [
      "Downloading: \"https://dl.fbaipublicfiles.com/convnext/convnext_tiny_1k_224_ema.pth\" to /root/.cache/torch/hub/checkpoints/convnext_tiny_1k_224_ema.pth\n"
     ]
    }
   ],
   "source": [
    "learn = vision_learner(dls_train,arch='convnext_tiny',  metrics=accuracy, n_in=1)"
   ]
  },
  {
   "cell_type": "code",
   "execution_count": 8,
   "id": "a3a8988a",
   "metadata": {
    "execution": {
     "iopub.execute_input": "2023-04-20T19:50:29.612724Z",
     "iopub.status.busy": "2023-04-20T19:50:29.612396Z",
     "iopub.status.idle": "2023-04-20T19:50:29.616641Z",
     "shell.execute_reply": "2023-04-20T19:50:29.615549Z"
    },
    "papermill": {
     "duration": 0.012057,
     "end_time": "2023-04-20T19:50:29.619011",
     "exception": false,
     "start_time": "2023-04-20T19:50:29.606954",
     "status": "completed"
    },
    "tags": []
   },
   "outputs": [],
   "source": [
    "#lrs = learn.lr_find(suggest_funcs=(minimum, steep, valley, slide))"
   ]
  },
  {
   "cell_type": "code",
   "execution_count": 9,
   "id": "44ecf19a",
   "metadata": {
    "execution": {
     "iopub.execute_input": "2023-04-20T19:50:29.629071Z",
     "iopub.status.busy": "2023-04-20T19:50:29.628810Z",
     "iopub.status.idle": "2023-04-20T19:59:58.408224Z",
     "shell.execute_reply": "2023-04-20T19:59:58.407099Z"
    },
    "papermill": {
     "duration": 568.787214,
     "end_time": "2023-04-20T19:59:58.410737",
     "exception": false,
     "start_time": "2023-04-20T19:50:29.623523",
     "status": "completed"
    },
    "tags": []
   },
   "outputs": [
    {
     "data": {
      "text/html": [
       "\n",
       "<style>\n",
       "    /* Turns off some styling */\n",
       "    progress {\n",
       "        /* gets rid of default border in Firefox and Opera. */\n",
       "        border: none;\n",
       "        /* Needs to be in here for Safari polyfill so background images work as expected. */\n",
       "        background-size: auto;\n",
       "    }\n",
       "    progress:not([value]), progress:not([value])::-webkit-progress-bar {\n",
       "        background: repeating-linear-gradient(45deg, #7e7e7e, #7e7e7e 10px, #5c5c5c 10px, #5c5c5c 20px);\n",
       "    }\n",
       "    .progress-bar-interrupted, .progress-bar-interrupted::-webkit-progress-bar {\n",
       "        background: #F44336;\n",
       "    }\n",
       "</style>\n"
      ],
      "text/plain": [
       "<IPython.core.display.HTML object>"
      ]
     },
     "metadata": {},
     "output_type": "display_data"
    },
    {
     "data": {
      "text/html": [
       "<table border=\"1\" class=\"dataframe\">\n",
       "  <thead>\n",
       "    <tr style=\"text-align: left;\">\n",
       "      <th>epoch</th>\n",
       "      <th>train_loss</th>\n",
       "      <th>valid_loss</th>\n",
       "      <th>accuracy</th>\n",
       "      <th>time</th>\n",
       "    </tr>\n",
       "  </thead>\n",
       "  <tbody>\n",
       "    <tr>\n",
       "      <td>0</td>\n",
       "      <td>0.459803</td>\n",
       "      <td>0.445717</td>\n",
       "      <td>0.798701</td>\n",
       "      <td>09:28</td>\n",
       "    </tr>\n",
       "  </tbody>\n",
       "</table>"
      ],
      "text/plain": [
       "<IPython.core.display.HTML object>"
      ]
     },
     "metadata": {},
     "output_type": "display_data"
    }
   ],
   "source": [
    "learn.fine_tune(\n",
    "    0, \n",
    "    #lrs.valley \n",
    "    cbs=EarlyStoppingCallback(monitor='accuracy', min_delta=0.01, patience=4)\n",
    ")"
   ]
  },
  {
   "cell_type": "code",
   "execution_count": 10,
   "id": "b6b2de42",
   "metadata": {
    "execution": {
     "iopub.execute_input": "2023-04-20T19:59:58.424086Z",
     "iopub.status.busy": "2023-04-20T19:59:58.422293Z",
     "iopub.status.idle": "2023-04-20T20:02:20.153322Z",
     "shell.execute_reply": "2023-04-20T20:02:20.151616Z"
    },
    "papermill": {
     "duration": 141.740853,
     "end_time": "2023-04-20T20:02:20.156938",
     "exception": false,
     "start_time": "2023-04-20T19:59:58.416085",
     "status": "completed"
    },
    "tags": []
   },
   "outputs": [
    {
     "data": {
      "text/html": [
       "\n",
       "<style>\n",
       "    /* Turns off some styling */\n",
       "    progress {\n",
       "        /* gets rid of default border in Firefox and Opera. */\n",
       "        border: none;\n",
       "        /* Needs to be in here for Safari polyfill so background images work as expected. */\n",
       "        background-size: auto;\n",
       "    }\n",
       "    progress:not([value]), progress:not([value])::-webkit-progress-bar {\n",
       "        background: repeating-linear-gradient(45deg, #7e7e7e, #7e7e7e 10px, #5c5c5c 10px, #5c5c5c 20px);\n",
       "    }\n",
       "    .progress-bar-interrupted, .progress-bar-interrupted::-webkit-progress-bar {\n",
       "        background: #F44336;\n",
       "    }\n",
       "</style>\n"
      ],
      "text/plain": [
       "<IPython.core.display.HTML object>"
      ]
     },
     "metadata": {},
     "output_type": "display_data"
    },
    {
     "data": {
      "text/html": [],
      "text/plain": [
       "<IPython.core.display.HTML object>"
      ]
     },
     "metadata": {},
     "output_type": "display_data"
    },
    {
     "data": {
      "text/html": [
       "\n",
       "<style>\n",
       "    /* Turns off some styling */\n",
       "    progress {\n",
       "        /* gets rid of default border in Firefox and Opera. */\n",
       "        border: none;\n",
       "        /* Needs to be in here for Safari polyfill so background images work as expected. */\n",
       "        background-size: auto;\n",
       "    }\n",
       "    progress:not([value]), progress:not([value])::-webkit-progress-bar {\n",
       "        background: repeating-linear-gradient(45deg, #7e7e7e, #7e7e7e 10px, #5c5c5c 10px, #5c5c5c 20px);\n",
       "    }\n",
       "    .progress-bar-interrupted, .progress-bar-interrupted::-webkit-progress-bar {\n",
       "        background: #F44336;\n",
       "    }\n",
       "</style>\n"
      ],
      "text/plain": [
       "<IPython.core.display.HTML object>"
      ]
     },
     "metadata": {},
     "output_type": "display_data"
    },
    {
     "data": {
      "text/html": [],
      "text/plain": [
       "<IPython.core.display.HTML object>"
      ]
     },
     "metadata": {},
     "output_type": "display_data"
    },
    {
     "data": {
      "image/png": "[encoded data removed]",
      "text/plain": [
       "<Figure size 640x480 with 1 Axes>"
      ]
     },
     "metadata": {},
     "output_type": "display_data"
    }
   ],
   "source": [
    "learn_int = ClassificationInterpretation.from_learner(learn)\n",
    "learn_int.plot_confusion_matrix()"
   ]
  },
  {
   "cell_type": "code",
   "execution_count": 11,
   "id": "3bb622cf",
   "metadata": {
    "execution": {
     "iopub.execute_input": "2023-04-20T20:02:20.187064Z",
     "iopub.status.busy": "2023-04-20T20:02:20.186425Z",
     "iopub.status.idle": "2023-04-20T20:02:20.220421Z",
     "shell.execute_reply": "2023-04-20T20:02:20.219781Z"
    },
    "papermill": {
     "duration": 0.051147,
     "end_time": "2023-04-20T20:02:20.222299",
     "exception": false,
     "start_time": "2023-04-20T20:02:20.171152",
     "status": "completed"
    },
    "tags": []
   },
   "outputs": [],
   "source": [
    "path = '/kaggle/input/jet-images-train-val-test/jet-images_micro.hdf5'\n",
    "classes = [\"general\", \"W-boson\"]\n",
    "    \n",
    "h5_file = h5py.File(path, 'r')\n",
    "signal_data = h5_file['signal']\n",
    "image_data = h5_file['image']\n",
    "\n",
    "\n",
    "\n",
    "def label_func(x):\n",
    "    signal = signal_data[int(x)]\n",
    "    return classes[int(signal)]\n",
    "\n",
    "def get_items(x):\n",
    "    l = len(image_data)\n",
    "    return [str(i) for i in range(l)]\n",
    "\n",
    "def get_x(x):\n",
    "    return torch.from_numpy(image_data[int(x)])"
   ]
  },
  {
   "cell_type": "code",
   "execution_count": 12,
   "id": "95d34c3e",
   "metadata": {
    "execution": {
     "iopub.execute_input": "2023-04-20T20:02:20.234433Z",
     "iopub.status.busy": "2023-04-20T20:02:20.234151Z",
     "iopub.status.idle": "2023-04-20T20:02:20.239465Z",
     "shell.execute_reply": "2023-04-20T20:02:20.238663Z"
    },
    "papermill": {
     "duration": 0.013482,
     "end_time": "2023-04-20T20:02:20.241301",
     "exception": false,
     "start_time": "2023-04-20T20:02:20.227819",
     "status": "completed"
    },
    "tags": []
   },
   "outputs": [],
   "source": [
    "val_dblock = DataBlock(blocks    = (ImageBlock, CategoryBlock),\n",
    "                   get_items = get_items,\n",
    "                   get_x = get_x,\n",
    "                   get_y     = label_func,\n",
    "                   splitter  = RandomSplitter(valid_pct=0.2, seed=42),\n",
    "                   item_tfms=[Resize(200, method='squish')])"
   ]
  },
  {
   "cell_type": "code",
   "execution_count": 13,
   "id": "246fdd79",
   "metadata": {
    "execution": {
     "iopub.execute_input": "2023-04-20T20:02:20.253748Z",
     "iopub.status.busy": "2023-04-20T20:02:20.253233Z",
     "iopub.status.idle": "2023-04-20T20:02:20.780481Z",
     "shell.execute_reply": "2023-04-20T20:02:20.779449Z"
    },
    "papermill": {
     "duration": 0.536516,
     "end_time": "2023-04-20T20:02:20.783160",
     "exception": false,
     "start_time": "2023-04-20T20:02:20.246644",
     "status": "completed"
    },
    "tags": []
   },
   "outputs": [],
   "source": [
    "dls_val = val_dblock.dataloaders(path)"
   ]
  },
  {
   "cell_type": "code",
   "execution_count": 14,
   "id": "bb73b615",
   "metadata": {
    "execution": {
     "iopub.execute_input": "2023-04-20T20:02:20.796083Z",
     "iopub.status.busy": "2023-04-20T20:02:20.795775Z",
     "iopub.status.idle": "2023-04-20T20:02:21.466013Z",
     "shell.execute_reply": "2023-04-20T20:02:21.464636Z"
    },
    "papermill": {
     "duration": 0.679602,
     "end_time": "2023-04-20T20:02:21.468615",
     "exception": false,
     "start_time": "2023-04-20T20:02:20.789013",
     "status": "completed"
    },
    "tags": []
   },
   "outputs": [
    {
     "data": {
      "image/png": "[encoded data removed]",
      "text/plain": [
       "<Figure size 900x600 with 6 Axes>"
      ]
     },
     "metadata": {},
     "output_type": "display_data"
    }
   ],
   "source": [
    "dls_val.show_batch(max_n=6)"
   ]
  },
  {
   "cell_type": "code",
   "execution_count": 15,
   "id": "9af0b273",
   "metadata": {
    "execution": {
     "iopub.execute_input": "2023-04-20T20:02:21.481922Z",
     "iopub.status.busy": "2023-04-20T20:02:21.481583Z",
     "iopub.status.idle": "2023-04-20T20:02:21.486365Z",
     "shell.execute_reply": "2023-04-20T20:02:21.485257Z"
    },
    "papermill": {
     "duration": 0.014052,
     "end_time": "2023-04-20T20:02:21.488773",
     "exception": false,
     "start_time": "2023-04-20T20:02:21.474721",
     "status": "completed"
    },
    "tags": []
   },
   "outputs": [],
   "source": [
    "learn.dls= dls_val"
   ]
  },
  {
   "cell_type": "code",
   "execution_count": 16,
   "id": "2d64956e",
   "metadata": {
    "execution": {
     "iopub.execute_input": "2023-04-20T20:02:21.501879Z",
     "iopub.status.busy": "2023-04-20T20:02:21.501377Z",
     "iopub.status.idle": "2023-04-20T20:02:53.991560Z",
     "shell.execute_reply": "2023-04-20T20:02:53.990467Z"
    },
    "papermill": {
     "duration": 32.499603,
     "end_time": "2023-04-20T20:02:53.994151",
     "exception": false,
     "start_time": "2023-04-20T20:02:21.494548",
     "status": "completed"
    },
    "tags": []
   },
   "outputs": [
    {
     "data": {
      "text/html": [
       "\n",
       "<style>\n",
       "    /* Turns off some styling */\n",
       "    progress {\n",
       "        /* gets rid of default border in Firefox and Opera. */\n",
       "        border: none;\n",
       "        /* Needs to be in here for Safari polyfill so background images work as expected. */\n",
       "        background-size: auto;\n",
       "    }\n",
       "    progress:not([value]), progress:not([value])::-webkit-progress-bar {\n",
       "        background: repeating-linear-gradient(45deg, #7e7e7e, #7e7e7e 10px, #5c5c5c 10px, #5c5c5c 20px);\n",
       "    }\n",
       "    .progress-bar-interrupted, .progress-bar-interrupted::-webkit-progress-bar {\n",
       "        background: #F44336;\n",
       "    }\n",
       "</style>\n"
      ],
      "text/plain": [
       "<IPython.core.display.HTML object>"
      ]
     },
     "metadata": {},
     "output_type": "display_data"
    },
    {
     "data": {
      "text/html": [
       "<table border=\"1\" class=\"dataframe\">\n",
       "  <thead>\n",
       "    <tr style=\"text-align: left;\">\n",
       "      <th>epoch</th>\n",
       "      <th>train_loss</th>\n",
       "      <th>valid_loss</th>\n",
       "      <th>accuracy</th>\n",
       "      <th>time</th>\n",
       "    </tr>\n",
       "  </thead>\n",
       "  <tbody>\n",
       "    <tr>\n",
       "      <td>0</td>\n",
       "      <td>0.450067</td>\n",
       "      <td>0.497366</td>\n",
       "      <td>0.761032</td>\n",
       "      <td>00:32</td>\n",
       "    </tr>\n",
       "  </tbody>\n",
       "</table>"
      ],
      "text/plain": [
       "<IPython.core.display.HTML object>"
      ]
     },
     "metadata": {},
     "output_type": "display_data"
    }
   ],
   "source": [
    "learn.fine_tune(\n",
    "    0, cbs=EarlyStoppingCallback(monitor='accuracy', min_delta=0.01, patience=4),\n",
    ")"
   ]
  },
  {
   "cell_type": "code",
   "execution_count": 17,
   "id": "9e80f4bb",
   "metadata": {
    "execution": {
     "iopub.execute_input": "2023-04-20T20:02:54.009391Z",
     "iopub.status.busy": "2023-04-20T20:02:54.008326Z",
     "iopub.status.idle": "2023-04-20T20:02:58.132364Z",
     "shell.execute_reply": "2023-04-20T20:02:58.131244Z"
    },
    "papermill": {
     "duration": 4.134179,
     "end_time": "2023-04-20T20:02:58.134813",
     "exception": false,
     "start_time": "2023-04-20T20:02:54.000634",
     "status": "completed"
    },
    "tags": []
   },
   "outputs": [
    {
     "data": {
      "text/html": [
       "\n",
       "<style>\n",
       "    /* Turns off some styling */\n",
       "    progress {\n",
       "        /* gets rid of default border in Firefox and Opera. */\n",
       "        border: none;\n",
       "        /* Needs to be in here for Safari polyfill so background images work as expected. */\n",
       "        background-size: auto;\n",
       "    }\n",
       "    progress:not([value]), progress:not([value])::-webkit-progress-bar {\n",
       "        background: repeating-linear-gradient(45deg, #7e7e7e, #7e7e7e 10px, #5c5c5c 10px, #5c5c5c 20px);\n",
       "    }\n",
       "    .progress-bar-interrupted, .progress-bar-interrupted::-webkit-progress-bar {\n",
       "        background: #F44336;\n",
       "    }\n",
       "</style>\n"
      ],
      "text/plain": [
       "<IPython.core.display.HTML object>"
      ]
     },
     "metadata": {},
     "output_type": "display_data"
    },
    {
     "data": {
      "text/html": [],
      "text/plain": [
       "<IPython.core.display.HTML object>"
      ]
     },
     "metadata": {},
     "output_type": "display_data"
    }
   ],
   "source": [
    "learn_int = ClassificationInterpretation.from_learner(learn)"
   ]
  },
  {
   "cell_type": "code",
   "execution_count": 18,
   "id": "cff92b03",
   "metadata": {
    "execution": {
     "iopub.execute_input": "2023-04-20T20:02:58.149165Z",
     "iopub.status.busy": "2023-04-20T20:02:58.148846Z",
     "iopub.status.idle": "2023-04-20T20:03:02.538399Z",
     "shell.execute_reply": "2023-04-20T20:03:02.536882Z"
    },
    "papermill": {
     "duration": 4.401556,
     "end_time": "2023-04-20T20:03:02.542852",
     "exception": false,
     "start_time": "2023-04-20T20:02:58.141296",
     "status": "completed"
    },
    "tags": []
   },
   "outputs": [
    {
     "data": {
      "text/html": [
       "\n",
       "<style>\n",
       "    /* Turns off some styling */\n",
       "    progress {\n",
       "        /* gets rid of default border in Firefox and Opera. */\n",
       "        border: none;\n",
       "        /* Needs to be in here for Safari polyfill so background images work as expected. */\n",
       "        background-size: auto;\n",
       "    }\n",
       "    progress:not([value]), progress:not([value])::-webkit-progress-bar {\n",
       "        background: repeating-linear-gradient(45deg, #7e7e7e, #7e7e7e 10px, #5c5c5c 10px, #5c5c5c 20px);\n",
       "    }\n",
       "    .progress-bar-interrupted, .progress-bar-interrupted::-webkit-progress-bar {\n",
       "        background: #F44336;\n",
       "    }\n",
       "</style>\n"
      ],
      "text/plain": [
       "<IPython.core.display.HTML object>"
      ]
     },
     "metadata": {},
     "output_type": "display_data"
    },
    {
     "data": {
      "text/html": [],
      "text/plain": [
       "<IPython.core.display.HTML object>"
      ]
     },
     "metadata": {},
     "output_type": "display_data"
    },
    {
     "data": {
      "image/png": "[encoded data removed]",
      "text/plain": [
       "<Figure size 640x480 with 1 Axes>"
      ]
     },
     "metadata": {},
     "output_type": "display_data"
    }
   ],
   "source": [
    "learn_int.plot_confusion_matrix()"
   ]
  }
 ],
 "metadata": {
  "kernelspec": {
   "display_name": "Python 3",
   "language": "python",
   "name": "python3"
  },
  "language_info": {
   "codemirror_mode": {
    "name": "ipython",
    "version": 3
   },
   "file_extension": ".py",
   "mimetype": "text/x-python",
   "name": "python",
   "nbconvert_exporter": "python",
   "pygments_lexer": "ipython3",
   "version": "3.7.12"
  },
  "papermill": {
   "default_parameters": {},
   "duration": 783.814188,
   "end_time": "2023-04-20T20:03:04.392361",
   "environment_variables": {},
   "exception": null,
   "input_path": "__notebook__.ipynb",
   "output_path": "__notebook__.ipynb",
   "parameters": {},
   "start_time": "2023-04-20T19:50:00.578173",
   "version": "2.4.0"
  }
 },
 "nbformat": 4,
 "nbformat_minor": 5
}
