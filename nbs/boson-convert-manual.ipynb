{
 "cells": [
  {
   "cell_type": "code",
   "execution_count": 1,
   "id": "10b7a785",
   "metadata": {
    "_cell_guid": "b1076dfc-b9ad-4769-8c92-a6c4dae69d19",
    "_uuid": "8f2839f25d086af736a60e9eeb907d3b93b6e0e5",
    "execution": {
     "iopub.execute_input": "2023-03-21T15:16:04.294037Z",
     "iopub.status.busy": "2023-03-21T15:16:04.293629Z",
     "iopub.status.idle": "2023-03-21T15:16:04.311566Z",
     "shell.execute_reply": "2023-03-21T15:16:04.310347Z"
    },
    "papermill": {
     "duration": 0.026952,
     "end_time": "2023-03-21T15:16:04.314864",
     "exception": false,
     "start_time": "2023-03-21T15:16:04.287912",
     "status": "completed"
    },
    "tags": []
   },
   "outputs": [
    {
     "name": "stdout",
     "output_type": "stream",
     "text": [
      "/kaggle/input/generated-jet-images/jet-images_Mass60-100_pT250-300_R1.25_Pix25.hdf5\n"
     ]
    }
   ],
   "source": [
    "# This Python 3 environment comes with many helpful analytics libraries installed\n",
    "# It is defined by the kaggle/python Docker image: https://github.com/kaggle/docker-python\n",
    "# For example, here's several helpful packages to load\n",
    "\n",
    "import numpy as np # linear algebra\n",
    "import pandas as pd # data processing, CSV file I/O (e.g. pd.read_csv)\n",
    "\n",
    "# Input data files are available in the read-only \"../input/\" directory\n",
    "# For example, running this (by clicking run or pressing Shift+Enter) will list all files under the input directory\n",
    "\n",
    "import os\n",
    "for dirname, _, filenames in os.walk('/kaggle/input'):\n",
    "    for filename in filenames:\n",
    "        print(os.path.join(dirname, filename))\n",
    "\n",
    "# You can write up to 20GB to the current directory (/kaggle/working/) that gets preserved as output when you create a version using \"Save & Run All\" \n",
    "# You can also write temporary files to /kaggle/temp/, but they won't be saved outside of the current session"
   ]
  },
  {
   "cell_type": "code",
   "execution_count": 2,
   "id": "a38c88fa",
   "metadata": {
    "execution": {
     "iopub.execute_input": "2023-03-21T15:16:04.322817Z",
     "iopub.status.busy": "2023-03-21T15:16:04.322560Z",
     "iopub.status.idle": "2023-03-21T15:16:09.238843Z",
     "shell.execute_reply": "2023-03-21T15:16:09.237786Z"
    },
    "papermill": {
     "duration": 4.923209,
     "end_time": "2023-03-21T15:16:09.241613",
     "exception": false,
     "start_time": "2023-03-21T15:16:04.318404",
     "status": "completed"
    },
    "tags": []
   },
   "outputs": [],
   "source": [
    "from fastai.vision.all import *\n",
    "from pathlib import Path\n",
    "\n",
    "\n",
    "import os\n",
    "kaggle = os.environ.get('KAGGLE_KERNEL_RUN_TYPE', '')"
   ]
  },
  {
   "cell_type": "code",
   "execution_count": 3,
   "id": "debea3ae",
   "metadata": {
    "execution": {
     "iopub.execute_input": "2023-03-21T15:16:09.250774Z",
     "iopub.status.busy": "2023-03-21T15:16:09.249712Z",
     "iopub.status.idle": "2023-03-21T15:16:09.397361Z",
     "shell.execute_reply": "2023-03-21T15:16:09.396152Z"
    },
    "papermill": {
     "duration": 0.154966,
     "end_time": "2023-03-21T15:16:09.400048",
     "exception": false,
     "start_time": "2023-03-21T15:16:09.245082",
     "status": "completed"
    },
    "tags": []
   },
   "outputs": [
    {
     "name": "stdout",
     "output_type": "stream",
     "text": [
      "['image', 'jet_delta_R', 'jet_eta', 'jet_mass', 'jet_phi', 'jet_pt', 'signal', 'tau_1', 'tau_2', 'tau_21', 'tau_3', 'tau_32']\n"
     ]
    }
   ],
   "source": [
    "import h5py\n",
    "#import requests\n",
    "\n",
    "f1 = h5py.File('/kaggle/input/generated-jet-images/jet-images_Mass60-100_pT250-300_R1.25_Pix25.hdf5', 'r')\n",
    "print(list(f1.keys()))"
   ]
  },
  {
   "cell_type": "code",
   "execution_count": 4,
   "id": "ac8714af",
   "metadata": {
    "execution": {
     "iopub.execute_input": "2023-03-21T15:16:09.408817Z",
     "iopub.status.busy": "2023-03-21T15:16:09.408258Z",
     "iopub.status.idle": "2023-03-21T15:16:09.414747Z",
     "shell.execute_reply": "2023-03-21T15:16:09.413798Z"
    },
    "papermill": {
     "duration": 0.01345,
     "end_time": "2023-03-21T15:16:09.417070",
     "exception": false,
     "start_time": "2023-03-21T15:16:09.403620",
     "status": "completed"
    },
    "tags": []
   },
   "outputs": [],
   "source": [
    "os.makedirs('/kaggle/working/images/boson')\n",
    "os.makedirs('/kaggle/working/images/general')\n",
    "boson = '/kaggle/working/images/boson/'\n",
    "general = '/kaggle/working/images/general/'\n"
   ]
  },
  {
   "cell_type": "code",
   "execution_count": 5,
   "id": "c6e2c4c5",
   "metadata": {
    "execution": {
     "iopub.execute_input": "2023-03-21T15:16:09.424846Z",
     "iopub.status.busy": "2023-03-21T15:16:09.424573Z",
     "iopub.status.idle": "2023-03-21T15:16:09.429899Z",
     "shell.execute_reply": "2023-03-21T15:16:09.429010Z"
    },
    "papermill": {
     "duration": 0.011996,
     "end_time": "2023-03-21T15:16:09.432211",
     "exception": false,
     "start_time": "2023-03-21T15:16:09.420215",
     "status": "completed"
    },
    "tags": []
   },
   "outputs": [],
   "source": [
    "os.makedirs('/kaggle/working/csv')"
   ]
  },
  {
   "cell_type": "code",
   "execution_count": 6,
   "id": "8f35552b",
   "metadata": {
    "execution": {
     "iopub.execute_input": "2023-03-21T15:16:09.439955Z",
     "iopub.status.busy": "2023-03-21T15:16:09.439681Z",
     "iopub.status.idle": "2023-03-21T15:16:09.447465Z",
     "shell.execute_reply": "2023-03-21T15:16:09.446327Z"
    },
    "papermill": {
     "duration": 0.014241,
     "end_time": "2023-03-21T15:16:09.449574",
     "exception": false,
     "start_time": "2023-03-21T15:16:09.435333",
     "status": "completed"
    },
    "tags": []
   },
   "outputs": [
    {
     "data": {
      "text/plain": [
       "h5py._hl.dataset.Dataset"
      ]
     },
     "execution_count": 6,
     "metadata": {},
     "output_type": "execute_result"
    }
   ],
   "source": [
    "col = f1['jet_pt']\n",
    "type(col)"
   ]
  },
  {
   "cell_type": "code",
   "execution_count": 7,
   "id": "ff873470",
   "metadata": {
    "execution": {
     "iopub.execute_input": "2023-03-21T15:16:09.458854Z",
     "iopub.status.busy": "2023-03-21T15:16:09.457416Z",
     "iopub.status.idle": "2023-03-21T15:16:09.468990Z",
     "shell.execute_reply": "2023-03-21T15:16:09.468016Z"
    },
    "papermill": {
     "duration": 0.018104,
     "end_time": "2023-03-21T15:16:09.471255",
     "exception": false,
     "start_time": "2023-03-21T15:16:09.453151",
     "status": "completed"
    },
    "tags": []
   },
   "outputs": [],
   "source": [
    "## Creating data\n",
    "d = {'jet_delta_R': f1['jet_delta_R'],'jet_eta': f1['jet_eta'], 'jet_mass': f1['jet_mass'],\n",
    "     'jet_phi': f1['jet_phi'], 'jet_pt': f1['jet_pt'], 'tau_1': f1['tau_1'], 'tau_2': f1['tau_2'], 'tau_3': f1['tau_3'],  'signal': f1['signal']  }"
   ]
  },
  {
   "cell_type": "code",
   "execution_count": 8,
   "id": "dc2bad61",
   "metadata": {
    "execution": {
     "iopub.execute_input": "2023-03-21T15:16:09.479633Z",
     "iopub.status.busy": "2023-03-21T15:16:09.479097Z",
     "iopub.status.idle": "2023-03-21T15:16:09.924219Z",
     "shell.execute_reply": "2023-03-21T15:16:09.923116Z"
    },
    "papermill": {
     "duration": 0.452485,
     "end_time": "2023-03-21T15:16:09.927182",
     "exception": false,
     "start_time": "2023-03-21T15:16:09.474697",
     "status": "completed"
    },
    "tags": []
   },
   "outputs": [],
   "source": [
    "## creating dataframe\n",
    "df = pd.DataFrame(data=d)"
   ]
  },
  {
   "cell_type": "code",
   "execution_count": 9,
   "id": "0f802238",
   "metadata": {
    "execution": {
     "iopub.execute_input": "2023-03-21T15:16:09.936854Z",
     "iopub.status.busy": "2023-03-21T15:16:09.935654Z",
     "iopub.status.idle": "2023-03-21T15:16:09.957557Z",
     "shell.execute_reply": "2023-03-21T15:16:09.956479Z"
    },
    "papermill": {
     "duration": 0.028922,
     "end_time": "2023-03-21T15:16:09.959671",
     "exception": false,
     "start_time": "2023-03-21T15:16:09.930749",
     "status": "completed"
    },
    "tags": []
   },
   "outputs": [
    {
     "data": {
      "text/html": [
       "<div>\n",
       "<style scoped>\n",
       "    .dataframe tbody tr th:only-of-type {\n",
       "        vertical-align: middle;\n",
       "    }\n",
       "\n",
       "    .dataframe tbody tr th {\n",
       "        vertical-align: top;\n",
       "    }\n",
       "\n",
       "    .dataframe thead th {\n",
       "        text-align: right;\n",
       "    }\n",
       "</style>\n",
       "<table border=\"1\" class=\"dataframe\">\n",
       "  <thead>\n",
       "    <tr style=\"text-align: right;\">\n",
       "      <th></th>\n",
       "      <th>jet_delta_R</th>\n",
       "      <th>jet_eta</th>\n",
       "      <th>jet_mass</th>\n",
       "      <th>jet_phi</th>\n",
       "      <th>jet_pt</th>\n",
       "      <th>tau_1</th>\n",
       "      <th>tau_2</th>\n",
       "      <th>tau_3</th>\n",
       "      <th>signal</th>\n",
       "    </tr>\n",
       "  </thead>\n",
       "  <tbody>\n",
       "    <tr>\n",
       "      <th>0</th>\n",
       "      <td>0.480557</td>\n",
       "      <td>-1.517478</td>\n",
       "      <td>95.136238</td>\n",
       "      <td>5.756136</td>\n",
       "      <td>299.065826</td>\n",
       "      <td>0.261164</td>\n",
       "      <td>0.090308</td>\n",
       "      <td>0.061694</td>\n",
       "      <td>1.0</td>\n",
       "    </tr>\n",
       "    <tr>\n",
       "      <th>1</th>\n",
       "      <td>0.528465</td>\n",
       "      <td>-0.458434</td>\n",
       "      <td>81.271561</td>\n",
       "      <td>5.938481</td>\n",
       "      <td>291.957397</td>\n",
       "      <td>0.224727</td>\n",
       "      <td>0.045367</td>\n",
       "      <td>0.037747</td>\n",
       "      <td>1.0</td>\n",
       "    </tr>\n",
       "    <tr>\n",
       "      <th>2</th>\n",
       "      <td>0.637886</td>\n",
       "      <td>1.375518</td>\n",
       "      <td>76.364853</td>\n",
       "      <td>2.774098</td>\n",
       "      <td>251.558395</td>\n",
       "      <td>0.215769</td>\n",
       "      <td>0.035222</td>\n",
       "      <td>0.021038</td>\n",
       "      <td>1.0</td>\n",
       "    </tr>\n",
       "    <tr>\n",
       "      <th>3</th>\n",
       "      <td>0.584993</td>\n",
       "      <td>0.202537</td>\n",
       "      <td>85.025551</td>\n",
       "      <td>1.718446</td>\n",
       "      <td>271.143646</td>\n",
       "      <td>0.287663</td>\n",
       "      <td>0.082421</td>\n",
       "      <td>0.043091</td>\n",
       "      <td>1.0</td>\n",
       "    </tr>\n",
       "    <tr>\n",
       "      <th>4</th>\n",
       "      <td>0.570896</td>\n",
       "      <td>-0.767848</td>\n",
       "      <td>88.171738</td>\n",
       "      <td>1.980324</td>\n",
       "      <td>271.161774</td>\n",
       "      <td>0.264234</td>\n",
       "      <td>0.084575</td>\n",
       "      <td>0.050248</td>\n",
       "      <td>1.0</td>\n",
       "    </tr>\n",
       "  </tbody>\n",
       "</table>\n",
       "</div>"
      ],
      "text/plain": [
       "   jet_delta_R   jet_eta   jet_mass   jet_phi      jet_pt     tau_1     tau_2  \\\n",
       "0     0.480557 -1.517478  95.136238  5.756136  299.065826  0.261164  0.090308   \n",
       "1     0.528465 -0.458434  81.271561  5.938481  291.957397  0.224727  0.045367   \n",
       "2     0.637886  1.375518  76.364853  2.774098  251.558395  0.215769  0.035222   \n",
       "3     0.584993  0.202537  85.025551  1.718446  271.143646  0.287663  0.082421   \n",
       "4     0.570896 -0.767848  88.171738  1.980324  271.161774  0.264234  0.084575   \n",
       "\n",
       "      tau_3  signal  \n",
       "0  0.061694     1.0  \n",
       "1  0.037747     1.0  \n",
       "2  0.021038     1.0  \n",
       "3  0.043091     1.0  \n",
       "4  0.050248     1.0  "
      ]
     },
     "execution_count": 9,
     "metadata": {},
     "output_type": "execute_result"
    }
   ],
   "source": [
    "df.head()"
   ]
  },
  {
   "cell_type": "code",
   "execution_count": 10,
   "id": "bf9bb83b",
   "metadata": {
    "execution": {
     "iopub.execute_input": "2023-03-21T15:16:09.970035Z",
     "iopub.status.busy": "2023-03-21T15:16:09.968381Z",
     "iopub.status.idle": "2023-03-21T15:16:15.932059Z",
     "shell.execute_reply": "2023-03-21T15:16:15.930613Z"
    },
    "papermill": {
     "duration": 5.972225,
     "end_time": "2023-03-21T15:16:15.935715",
     "exception": false,
     "start_time": "2023-03-21T15:16:09.963490",
     "status": "completed"
    },
    "tags": []
   },
   "outputs": [],
   "source": [
    "df.to_csv('/kaggle/working/csv/jetdata.csv',index=False)"
   ]
  },
  {
   "cell_type": "code",
   "execution_count": 11,
   "id": "2168e26d",
   "metadata": {
    "execution": {
     "iopub.execute_input": "2023-03-21T15:16:15.949006Z",
     "iopub.status.busy": "2023-03-21T15:16:15.948527Z",
     "iopub.status.idle": "2023-03-21T15:19:02.821885Z",
     "shell.execute_reply": "2023-03-21T15:19:02.820856Z"
    },
    "papermill": {
     "duration": 166.882886,
     "end_time": "2023-03-21T15:19:02.824839",
     "exception": false,
     "start_time": "2023-03-21T15:16:15.941953",
     "status": "completed"
    },
    "tags": []
   },
   "outputs": [],
   "source": [
    "\n",
    "boson_full = 0\n",
    "general_full = 0\n",
    "\n",
    "for i in range(200000):\n",
    "    image = f1['image'][i]\n",
    "    signal = f1['signal'][i]\n",
    "    if (signal == 1):\n",
    "        if (boson_full <= 50000):\n",
    "            savepath = '/kaggle/working/images/boson/' + str(i) +'.png'\n",
    "            plt.imsave(savepath,image)\n",
    "            boson_full += 1\n",
    "    else:\n",
    "        if (general_full <= 50000):\n",
    "            savepath = '/kaggle/working/images/general/' + str(i) +'.png'\n",
    "            plt.imsave(savepath,image)\n",
    "            general_full += 1\n",
    "\n",
    "        "
   ]
  },
  {
   "cell_type": "code",
   "execution_count": 12,
   "id": "3e202fa9",
   "metadata": {
    "execution": {
     "iopub.execute_input": "2023-03-21T15:19:02.835854Z",
     "iopub.status.busy": "2023-03-21T15:19:02.834153Z",
     "iopub.status.idle": "2023-03-21T15:19:02.840938Z",
     "shell.execute_reply": "2023-03-21T15:19:02.839989Z"
    },
    "papermill": {
     "duration": 0.014206,
     "end_time": "2023-03-21T15:19:02.843327",
     "exception": false,
     "start_time": "2023-03-21T15:19:02.829121",
     "status": "completed"
    },
    "tags": []
   },
   "outputs": [
    {
     "name": "stdout",
     "output_type": "stream",
     "text": [
      "Finished\n"
     ]
    }
   ],
   "source": [
    "print(\"Finished\")"
   ]
  },
  {
   "cell_type": "code",
   "execution_count": null,
   "id": "318097ec",
   "metadata": {
    "papermill": {
     "duration": 0.003525,
     "end_time": "2023-03-21T15:19:02.850299",
     "exception": false,
     "start_time": "2023-03-21T15:19:02.846774",
     "status": "completed"
    },
    "tags": []
   },
   "outputs": [],
   "source": []
  }
 ],
 "metadata": {
  "kernelspec": {
   "display_name": "Python 3",
   "language": "python",
   "name": "python3"
  },
  "language_info": {
   "codemirror_mode": {
    "name": "ipython",
    "version": 3
   },
   "file_extension": ".py",
   "mimetype": "text/x-python",
   "name": "python",
   "nbconvert_exporter": "python",
   "pygments_lexer": "ipython3",
   "version": "3.7.12"
  },
  "papermill": {
   "default_parameters": {},
   "duration": 189.056576,
   "end_time": "2023-03-21T15:19:04.177791",
   "environment_variables": {},
   "exception": null,
   "input_path": "__notebook__.ipynb",
   "output_path": "__notebook__.ipynb",
   "parameters": {},
   "start_time": "2023-03-21T15:15:55.121215",
   "version": "2.4.0"
  }
 },
 "nbformat": 4,
 "nbformat_minor": 5
}
