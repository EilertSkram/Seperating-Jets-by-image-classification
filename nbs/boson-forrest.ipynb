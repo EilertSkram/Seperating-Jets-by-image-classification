{
 "cells": [
  {
   "cell_type": "code",
   "execution_count": 1,
   "id": "5b1bf80d",
   "metadata": {
    "_cell_guid": "b1076dfc-b9ad-4769-8c92-a6c4dae69d19",
    "_uuid": "8f2839f25d086af736a60e9eeb907d3b93b6e0e5",
    "execution": {
     "iopub.execute_input": "2023-03-22T13:11:45.452966Z",
     "iopub.status.busy": "2023-03-22T13:11:45.452277Z",
     "iopub.status.idle": "2023-03-22T13:11:45.466489Z",
     "shell.execute_reply": "2023-03-22T13:11:45.464673Z"
    },
    "papermill": {
     "duration": 0.023371,
     "end_time": "2023-03-22T13:11:45.469505",
     "exception": false,
     "start_time": "2023-03-22T13:11:45.446134",
     "status": "completed"
    },
    "tags": []
   },
   "outputs": [],
   "source": [
    "# This Python 3 environment comes with many helpful analytics libraries installed\n",
    "# It is defined by the kaggle/python Docker image: https://github.com/kaggle/docker-python\n",
    "# For example, here's several helpful packages to load\n",
    "\n",
    "import numpy as np # linear algebra\n",
    "import pandas as pd # data processing, CSV file I/O (e.g. pd.read_csv)\n",
    "\n",
    "# Input data files are available in the read-only \"../input/\" directory\n",
    "# For example, running this (by clicking run or pressing Shift+Enter) will list all files under the input directory\n",
    "\n",
    "\n",
    "# You can write up to 20GB to the current directory (/kaggle/working/) that gets preserved as output when you create a version using \"Save & Run All\" \n",
    "# You can also write temporary files to /kaggle/temp/, but they won't be saved outside of the current session"
   ]
  },
  {
   "cell_type": "code",
   "execution_count": 2,
   "id": "144f01b3",
   "metadata": {
    "execution": {
     "iopub.execute_input": "2023-03-22T13:11:45.477718Z",
     "iopub.status.busy": "2023-03-22T13:11:45.477270Z",
     "iopub.status.idle": "2023-03-22T13:11:45.483401Z",
     "shell.execute_reply": "2023-03-22T13:11:45.481880Z"
    },
    "papermill": {
     "duration": 0.014455,
     "end_time": "2023-03-22T13:11:45.487234",
     "exception": false,
     "start_time": "2023-03-22T13:11:45.472779",
     "status": "completed"
    },
    "tags": []
   },
   "outputs": [],
   "source": [
    "from pathlib import Path"
   ]
  },
  {
   "cell_type": "code",
   "execution_count": 3,
   "id": "826b6fc2",
   "metadata": {
    "execution": {
     "iopub.execute_input": "2023-03-22T13:11:45.496249Z",
     "iopub.status.busy": "2023-03-22T13:11:45.495806Z",
     "iopub.status.idle": "2023-03-22T13:11:45.501206Z",
     "shell.execute_reply": "2023-03-22T13:11:45.499968Z"
    },
    "papermill": {
     "duration": 0.012928,
     "end_time": "2023-03-22T13:11:45.503836",
     "exception": false,
     "start_time": "2023-03-22T13:11:45.490908",
     "status": "completed"
    },
    "tags": []
   },
   "outputs": [],
   "source": [
    "DATA = Path('/kaggle/input/boson-convert-manual/csv/jetdata.csv')"
   ]
  },
  {
   "cell_type": "code",
   "execution_count": 4,
   "id": "31102c8c",
   "metadata": {
    "execution": {
     "iopub.execute_input": "2023-03-22T13:11:45.512757Z",
     "iopub.status.busy": "2023-03-22T13:11:45.512273Z",
     "iopub.status.idle": "2023-03-22T13:11:49.241955Z",
     "shell.execute_reply": "2023-03-22T13:11:49.240459Z"
    },
    "papermill": {
     "duration": 3.737584,
     "end_time": "2023-03-22T13:11:49.244842",
     "exception": false,
     "start_time": "2023-03-22T13:11:45.507258",
     "status": "completed"
    },
    "tags": []
   },
   "outputs": [],
   "source": [
    "train = pd.read_csv(DATA)"
   ]
  },
  {
   "cell_type": "code",
   "execution_count": 5,
   "id": "5b76086e",
   "metadata": {
    "execution": {
     "iopub.execute_input": "2023-03-22T13:11:49.253058Z",
     "iopub.status.busy": "2023-03-22T13:11:49.252612Z",
     "iopub.status.idle": "2023-03-22T13:11:49.262708Z",
     "shell.execute_reply": "2023-03-22T13:11:49.261716Z"
    },
    "papermill": {
     "duration": 0.017556,
     "end_time": "2023-03-22T13:11:49.265584",
     "exception": false,
     "start_time": "2023-03-22T13:11:49.248028",
     "status": "completed"
    },
    "tags": []
   },
   "outputs": [],
   "source": [
    "train.rename(columns = {'signal':'boson'}, inplace = True)"
   ]
  },
  {
   "cell_type": "code",
   "execution_count": 6,
   "id": "9ae83a9d",
   "metadata": {
    "execution": {
     "iopub.execute_input": "2023-03-22T13:11:49.274887Z",
     "iopub.status.busy": "2023-03-22T13:11:49.273961Z",
     "iopub.status.idle": "2023-03-22T13:11:49.313075Z",
     "shell.execute_reply": "2023-03-22T13:11:49.311644Z"
    },
    "papermill": {
     "duration": 0.047052,
     "end_time": "2023-03-22T13:11:49.316254",
     "exception": false,
     "start_time": "2023-03-22T13:11:49.269202",
     "status": "completed"
    },
    "tags": []
   },
   "outputs": [],
   "source": [
    "train_label = train['boson'].copy()\n",
    "train = train.drop('boson', axis = 1)"
   ]
  },
  {
   "cell_type": "code",
   "execution_count": 7,
   "id": "62ca2f12",
   "metadata": {
    "execution": {
     "iopub.execute_input": "2023-03-22T13:11:49.325208Z",
     "iopub.status.busy": "2023-03-22T13:11:49.324775Z",
     "iopub.status.idle": "2023-03-22T13:11:50.802871Z",
     "shell.execute_reply": "2023-03-22T13:11:50.801565Z"
    },
    "papermill": {
     "duration": 1.486429,
     "end_time": "2023-03-22T13:11:50.806067",
     "exception": false,
     "start_time": "2023-03-22T13:11:49.319638",
     "status": "completed"
    },
    "tags": []
   },
   "outputs": [],
   "source": [
    "from sklearn.ensemble import GradientBoostingClassifier, RandomForestClassifier\n",
    "from sklearn.tree import DecisionTreeClassifier\n",
    "from xgboost import XGBClassifier"
   ]
  },
  {
   "cell_type": "code",
   "execution_count": 8,
   "id": "ae3d1e25",
   "metadata": {
    "execution": {
     "iopub.execute_input": "2023-03-22T13:11:50.816448Z",
     "iopub.status.busy": "2023-03-22T13:11:50.815142Z",
     "iopub.status.idle": "2023-03-22T13:31:01.673654Z",
     "shell.execute_reply": "2023-03-22T13:31:01.672424Z"
    },
    "papermill": {
     "duration": 1150.870023,
     "end_time": "2023-03-22T13:31:01.679832",
     "exception": false,
     "start_time": "2023-03-22T13:11:50.809809",
     "status": "completed"
    },
    "tags": []
   },
   "outputs": [
    {
     "data": {
      "text/plain": [
       "DecisionTreeClassifier()"
      ]
     },
     "execution_count": 8,
     "metadata": {},
     "output_type": "execute_result"
    }
   ],
   "source": [
    "xgb = XGBClassifier()\n",
    "xgb.fit(train, train_label)\n",
    "gbr = GradientBoostingClassifier()\n",
    "gbr.fit(train, train_label)\n",
    "rfr = RandomForestClassifier()\n",
    "rfr.fit(train, train_label)\n",
    "dtr = DecisionTreeClassifier()\n",
    "dtr.fit(train, train_label)"
   ]
  },
  {
   "cell_type": "code",
   "execution_count": 9,
   "id": "37fe94ab",
   "metadata": {
    "execution": {
     "iopub.execute_input": "2023-03-22T13:31:01.688817Z",
     "iopub.status.busy": "2023-03-22T13:31:01.688374Z",
     "iopub.status.idle": "2023-03-22T16:22:46.159367Z",
     "shell.execute_reply": "2023-03-22T16:22:46.158029Z"
    },
    "papermill": {
     "duration": 10304.481633,
     "end_time": "2023-03-22T16:22:46.164867",
     "exception": false,
     "start_time": "2023-03-22T13:31:01.683234",
     "status": "completed"
    },
    "tags": []
   },
   "outputs": [
    {
     "name": "stdout",
     "output_type": "stream",
     "text": [
      "XGBClassifier\n",
      "F1 Score\n",
      "Mean: 0.8130365109182287\n",
      "Standard deviation: 0.0009627808972876452\n",
      "-----------------------------------------\n",
      "GradientBoostingClassifier\n",
      "F1 Score\n",
      "Mean: 0.8093492201003885\n",
      "Standard deviation: 0.0010498512579608182\n",
      "-----------------------------------------\n",
      "RandomForestClassifier\n",
      "F1 Score\n",
      "Mean: 0.8104007645999569\n",
      "Standard deviation: 0.001466720408954705\n",
      "-----------------------------------------\n",
      "DecisionTreeClassifier\n",
      "F1 Score\n",
      "Mean: 0.7319569838275044\n",
      "Standard deviation: 0.0016010390693447284\n",
      "-----------------------------------------\n"
     ]
    }
   ],
   "source": [
    "from sklearn.model_selection import cross_val_score\n",
    "\n",
    "mms = {\n",
    "    \"XGBClassifier\": xgb,\n",
    "    \"GradientBoostingClassifier\": gbr,\n",
    "    \"RandomForestClassifier\": rfr,\n",
    "    \"DecisionTreeClassifier\": dtr,\n",
    "}\n",
    "\n",
    "for key,value in mms.items():\n",
    "    score = cross_val_score(value, train, train_label, scoring=\"f1\", cv=10)\n",
    "    print(key)\n",
    "    print('F1 Score')\n",
    "    print('Mean:', score.mean())\n",
    "    print('Standard deviation:',score.std())\n",
    "    print(\"-----------------------------------------\")"
   ]
  },
  {
   "cell_type": "code",
   "execution_count": null,
   "id": "c1158dc7",
   "metadata": {
    "papermill": {
     "duration": 0.003352,
     "end_time": "2023-03-22T16:22:46.171974",
     "exception": false,
     "start_time": "2023-03-22T16:22:46.168622",
     "status": "completed"
    },
    "tags": []
   },
   "outputs": [],
   "source": []
  }
 ],
 "metadata": {
  "kernelspec": {
   "display_name": "Python 3",
   "language": "python",
   "name": "python3"
  },
  "language_info": {
   "codemirror_mode": {
    "name": "ipython",
    "version": 3
   },
   "file_extension": ".py",
   "mimetype": "text/x-python",
   "name": "python",
   "nbconvert_exporter": "python",
   "pygments_lexer": "ipython3",
   "version": "3.7.12"
  },
  "papermill": {
   "default_parameters": {},
   "duration": 11472.19481,
   "end_time": "2023-03-22T16:22:47.026632",
   "environment_variables": {},
   "exception": null,
   "input_path": "__notebook__.ipynb",
   "output_path": "__notebook__.ipynb",
   "parameters": {},
   "start_time": "2023-03-22T13:11:34.831822",
   "version": "2.4.0"
  }
 },
 "nbformat": 4,
 "nbformat_minor": 5
}
