{
 "cells": [
  {
   "cell_type": "code",
   "execution_count": 1,
   "id": "d8ebec2c",
   "metadata": {
    "execution": {
     "iopub.execute_input": "2023-04-20T17:44:28.355402Z",
     "iopub.status.busy": "2023-04-20T17:44:28.354511Z",
     "iopub.status.idle": "2023-04-20T17:44:33.157974Z",
     "shell.execute_reply": "2023-04-20T17:44:33.156775Z"
    },
    "papermill": {
     "duration": 4.812306,
     "end_time": "2023-04-20T17:44:33.161051",
     "exception": false,
     "start_time": "2023-04-20T17:44:28.348745",
     "status": "completed"
    },
    "tags": []
   },
   "outputs": [],
   "source": [
    "from fastai.vision.all import *\n",
    "from pathlib import Path\n",
    "from matplotlib import cm\n",
    "\n",
    "\n",
    "import os\n",
    "kaggle = os.environ.get('KAGGLE_KERNEL_RUN_TYPE', '')"
   ]
  },
  {
   "cell_type": "code",
   "execution_count": 2,
   "id": "cae4989a",
   "metadata": {
    "execution": {
     "iopub.execute_input": "2023-04-20T17:44:33.170368Z",
     "iopub.status.busy": "2023-04-20T17:44:33.170067Z",
     "iopub.status.idle": "2023-04-20T17:44:33.190940Z",
     "shell.execute_reply": "2023-04-20T17:44:33.190035Z"
    },
    "papermill": {
     "duration": 0.027726,
     "end_time": "2023-04-20T17:44:33.192890",
     "exception": false,
     "start_time": "2023-04-20T17:44:33.165164",
     "status": "completed"
    },
    "tags": []
   },
   "outputs": [],
   "source": [
    "path = '/kaggle/input/jet-images-train-val-test/jet-images_test.hdf5'\n",
    "classes = [\"general\", \"W-boson\"]\n",
    "    \n",
    "h5_file = h5py.File(path, 'r')\n",
    "signal_data = h5_file['signal']\n",
    "image_data = h5_file['image']\n",
    "\n",
    "def label_func(x):\n",
    "    signal = signal_data[int(x)]\n",
    "    return classes[int(signal)]\n",
    "\n",
    "def get_items(x):\n",
    "    l = len(image_data)\n",
    "    return [str(i) for i in range(l)]\n",
    "\n",
    "def get_x(x):\n",
    "    return torch.from_numpy(image_data[int(x)])\n"
   ]
  },
  {
   "cell_type": "code",
   "execution_count": 3,
   "id": "c88f3d79",
   "metadata": {
    "execution": {
     "iopub.execute_input": "2023-04-20T17:44:33.202019Z",
     "iopub.status.busy": "2023-04-20T17:44:33.201212Z",
     "iopub.status.idle": "2023-04-20T17:44:33.208504Z",
     "shell.execute_reply": "2023-04-20T17:44:33.207628Z"
    },
    "papermill": {
     "duration": 0.01384,
     "end_time": "2023-04-20T17:44:33.210602",
     "exception": false,
     "start_time": "2023-04-20T17:44:33.196762",
     "status": "completed"
    },
    "tags": []
   },
   "outputs": [],
   "source": [
    "train_dblock = DataBlock(blocks    = (ImageBlock, CategoryBlock),\n",
    "                   get_items = get_items,\n",
    "                   get_x = get_x,\n",
    "                   get_y     = label_func,\n",
    "                   splitter  = RandomSplitter(valid_pct=0.2, seed=42),\n",
    "                   item_tfms=[Resize(200, method='squish')])"
   ]
  },
  {
   "cell_type": "code",
   "execution_count": 4,
   "id": "1d0d4811",
   "metadata": {
    "execution": {
     "iopub.execute_input": "2023-04-20T17:44:33.219069Z",
     "iopub.status.busy": "2023-04-20T17:44:33.218795Z",
     "iopub.status.idle": "2023-04-20T17:44:41.517593Z",
     "shell.execute_reply": "2023-04-20T17:44:41.516619Z"
    },
    "papermill": {
     "duration": 8.305884,
     "end_time": "2023-04-20T17:44:41.520067",
     "exception": false,
     "start_time": "2023-04-20T17:44:33.214183",
     "status": "completed"
    },
    "tags": []
   },
   "outputs": [],
   "source": [
    "dls_train = train_dblock.dataloaders(path)"
   ]
  },
  {
   "cell_type": "code",
   "execution_count": 5,
   "id": "720203a2",
   "metadata": {
    "execution": {
     "iopub.execute_input": "2023-04-20T17:44:41.530837Z",
     "iopub.status.busy": "2023-04-20T17:44:41.528989Z",
     "iopub.status.idle": "2023-04-20T17:44:41.913607Z",
     "shell.execute_reply": "2023-04-20T17:44:41.912415Z"
    },
    "papermill": {
     "duration": 0.392182,
     "end_time": "2023-04-20T17:44:41.916287",
     "exception": false,
     "start_time": "2023-04-20T17:44:41.524105",
     "status": "completed"
    },
    "tags": []
   },
   "outputs": [
    {
     "name": "stdout",
     "output_type": "stream",
     "text": [
      "torch.Size([64, 1, 200, 200])\n"
     ]
    }
   ],
   "source": [
    "xb, yb = dls_train.one_batch()\n",
    "print(xb.shape)"
   ]
  },
  {
   "cell_type": "code",
   "execution_count": 6,
   "id": "ba68302d",
   "metadata": {
    "execution": {
     "iopub.execute_input": "2023-04-20T17:44:41.926783Z",
     "iopub.status.busy": "2023-04-20T17:44:41.925083Z",
     "iopub.status.idle": "2023-04-20T17:44:42.635008Z",
     "shell.execute_reply": "2023-04-20T17:44:42.633966Z"
    },
    "papermill": {
     "duration": 0.717225,
     "end_time": "2023-04-20T17:44:42.637422",
     "exception": false,
     "start_time": "2023-04-20T17:44:41.920197",
     "status": "completed"
    },
    "tags": []
   },
   "outputs": [
    {
     "data": {
      "image/png": "[encoded data removed]",
      "text/plain": [
       "<Figure size 900x600 with 6 Axes>"
      ]
     },
     "metadata": {},
     "output_type": "display_data"
    }
   ],
   "source": [
    "dls_train.show_batch(max_n=6)"
   ]
  },
  {
   "cell_type": "code",
   "execution_count": 7,
   "id": "8ae7632a",
   "metadata": {
    "execution": {
     "iopub.execute_input": "2023-04-20T17:44:42.647350Z",
     "iopub.status.busy": "2023-04-20T17:44:42.647036Z",
     "iopub.status.idle": "2023-04-20T17:44:44.004077Z",
     "shell.execute_reply": "2023-04-20T17:44:44.003152Z"
    },
    "papermill": {
     "duration": 1.36493,
     "end_time": "2023-04-20T17:44:44.006826",
     "exception": false,
     "start_time": "2023-04-20T17:44:42.641896",
     "status": "completed"
    },
    "tags": []
   },
   "outputs": [
    {
     "name": "stderr",
     "output_type": "stream",
     "text": [
      "Downloading: \"https://dl.fbaipublicfiles.com/convnext/convnext_tiny_1k_224_ema.pth\" to /root/.cache/torch/hub/checkpoints/convnext_tiny_1k_224_ema.pth\n"
     ]
    }
   ],
   "source": [
    "learn = vision_learner(dls_train,arch='convnext_tiny',  metrics=accuracy, n_in=1)"
   ]
  },
  {
   "cell_type": "code",
   "execution_count": 8,
   "id": "e385a8be",
   "metadata": {
    "execution": {
     "iopub.execute_input": "2023-04-20T17:44:44.016918Z",
     "iopub.status.busy": "2023-04-20T17:44:44.016620Z",
     "iopub.status.idle": "2023-04-20T17:44:44.369263Z",
     "shell.execute_reply": "2023-04-20T17:44:44.368000Z"
    },
    "papermill": {
     "duration": 0.360233,
     "end_time": "2023-04-20T17:44:44.371461",
     "exception": false,
     "start_time": "2023-04-20T17:44:44.011228",
     "status": "completed"
    },
    "tags": []
   },
   "outputs": [
    {
     "name": "stdout",
     "output_type": "stream",
     "text": [
      "torch.Size([64, 1, 200, 200])\n"
     ]
    }
   ],
   "source": [
    "xb, yb = dls_train.one_batch()\n",
    "print(xb.shape)"
   ]
  },
  {
   "cell_type": "code",
   "execution_count": 9,
   "id": "f6976ade",
   "metadata": {
    "execution": {
     "iopub.execute_input": "2023-04-20T17:44:44.382116Z",
     "iopub.status.busy": "2023-04-20T17:44:44.381296Z",
     "iopub.status.idle": "2023-04-20T17:44:44.386514Z",
     "shell.execute_reply": "2023-04-20T17:44:44.385625Z"
    },
    "papermill": {
     "duration": 0.012474,
     "end_time": "2023-04-20T17:44:44.388558",
     "exception": false,
     "start_time": "2023-04-20T17:44:44.376084",
     "status": "completed"
    },
    "tags": []
   },
   "outputs": [],
   "source": [
    "#lrs = learn.lr_find(suggest_funcs=(minimum, steep, valley, slide))"
   ]
  },
  {
   "cell_type": "code",
   "execution_count": 10,
   "id": "31511aae",
   "metadata": {
    "execution": {
     "iopub.execute_input": "2023-04-20T17:44:44.398030Z",
     "iopub.status.busy": "2023-04-20T17:44:44.397755Z",
     "iopub.status.idle": "2023-04-20T18:57:34.401758Z",
     "shell.execute_reply": "2023-04-20T18:57:34.400569Z"
    },
    "papermill": {
     "duration": 4370.011294,
     "end_time": "2023-04-20T18:57:34.404000",
     "exception": false,
     "start_time": "2023-04-20T17:44:44.392706",
     "status": "completed"
    },
    "tags": []
   },
   "outputs": [
    {
     "data": {
      "text/html": [
       "\n",
       "<style>\n",
       "    /* Turns off some styling */\n",
       "    progress {\n",
       "        /* gets rid of default border in Firefox and Opera. */\n",
       "        border: none;\n",
       "        /* Needs to be in here for Safari polyfill so background images work as expected. */\n",
       "        background-size: auto;\n",
       "    }\n",
       "    progress:not([value]), progress:not([value])::-webkit-progress-bar {\n",
       "        background: repeating-linear-gradient(45deg, #7e7e7e, #7e7e7e 10px, #5c5c5c 10px, #5c5c5c 20px);\n",
       "    }\n",
       "    .progress-bar-interrupted, .progress-bar-interrupted::-webkit-progress-bar {\n",
       "        background: #F44336;\n",
       "    }\n",
       "</style>\n"
      ],
      "text/plain": [
       "<IPython.core.display.HTML object>"
      ]
     },
     "metadata": {},
     "output_type": "display_data"
    },
    {
     "data": {
      "text/html": [
       "<table border=\"1\" class=\"dataframe\">\n",
       "  <thead>\n",
       "    <tr style=\"text-align: left;\">\n",
       "      <th>epoch</th>\n",
       "      <th>train_loss</th>\n",
       "      <th>valid_loss</th>\n",
       "      <th>accuracy</th>\n",
       "      <th>time</th>\n",
       "    </tr>\n",
       "  </thead>\n",
       "  <tbody>\n",
       "    <tr>\n",
       "      <td>0</td>\n",
       "      <td>0.490636</td>\n",
       "      <td>0.461386</td>\n",
       "      <td>0.786971</td>\n",
       "      <td>05:17</td>\n",
       "    </tr>\n",
       "  </tbody>\n",
       "</table>"
      ],
      "text/plain": [
       "<IPython.core.display.HTML object>"
      ]
     },
     "metadata": {},
     "output_type": "display_data"
    },
    {
     "data": {
      "text/html": [
       "\n",
       "<style>\n",
       "    /* Turns off some styling */\n",
       "    progress {\n",
       "        /* gets rid of default border in Firefox and Opera. */\n",
       "        border: none;\n",
       "        /* Needs to be in here for Safari polyfill so background images work as expected. */\n",
       "        background-size: auto;\n",
       "    }\n",
       "    progress:not([value]), progress:not([value])::-webkit-progress-bar {\n",
       "        background: repeating-linear-gradient(45deg, #7e7e7e, #7e7e7e 10px, #5c5c5c 10px, #5c5c5c 20px);\n",
       "    }\n",
       "    .progress-bar-interrupted, .progress-bar-interrupted::-webkit-progress-bar {\n",
       "        background: #F44336;\n",
       "    }\n",
       "</style>\n"
      ],
      "text/plain": [
       "<IPython.core.display.HTML object>"
      ]
     },
     "metadata": {},
     "output_type": "display_data"
    },
    {
     "data": {
      "text/html": [
       "<table border=\"1\" class=\"dataframe\">\n",
       "  <thead>\n",
       "    <tr style=\"text-align: left;\">\n",
       "      <th>epoch</th>\n",
       "      <th>train_loss</th>\n",
       "      <th>valid_loss</th>\n",
       "      <th>accuracy</th>\n",
       "      <th>time</th>\n",
       "    </tr>\n",
       "  </thead>\n",
       "  <tbody>\n",
       "    <tr>\n",
       "      <td>0</td>\n",
       "      <td>0.420311</td>\n",
       "      <td>0.422250</td>\n",
       "      <td>0.805821</td>\n",
       "      <td>16:53</td>\n",
       "    </tr>\n",
       "    <tr>\n",
       "      <td>1</td>\n",
       "      <td>0.426046</td>\n",
       "      <td>0.647336</td>\n",
       "      <td>0.724575</td>\n",
       "      <td>16:52</td>\n",
       "    </tr>\n",
       "    <tr>\n",
       "      <td>2</td>\n",
       "      <td>0.424690</td>\n",
       "      <td>0.420372</td>\n",
       "      <td>0.809316</td>\n",
       "      <td>16:53</td>\n",
       "    </tr>\n",
       "    <tr>\n",
       "      <td>3</td>\n",
       "      <td>0.409297</td>\n",
       "      <td>0.467305</td>\n",
       "      <td>0.779293</td>\n",
       "      <td>16:53</td>\n",
       "    </tr>\n",
       "  </tbody>\n",
       "</table>"
      ],
      "text/plain": [
       "<IPython.core.display.HTML object>"
      ]
     },
     "metadata": {},
     "output_type": "display_data"
    },
    {
     "name": "stdout",
     "output_type": "stream",
     "text": [
      "No improvement since epoch 0: early stopping\n"
     ]
    }
   ],
   "source": [
    "learn.fine_tune(\n",
    "    10, \n",
    "    #lrs.valley \n",
    "    cbs=EarlyStoppingCallback(monitor='accuracy', min_delta=0.01, patience=3)\n",
    ")"
   ]
  },
  {
   "cell_type": "code",
   "execution_count": 11,
   "id": "8ef112ae",
   "metadata": {
    "execution": {
     "iopub.execute_input": "2023-04-20T18:57:34.416045Z",
     "iopub.status.busy": "2023-04-20T18:57:34.415248Z",
     "iopub.status.idle": "2023-04-20T18:57:34.436359Z",
     "shell.execute_reply": "2023-04-20T18:57:34.435422Z"
    },
    "papermill": {
     "duration": 0.029555,
     "end_time": "2023-04-20T18:57:34.438627",
     "exception": false,
     "start_time": "2023-04-20T18:57:34.409072",
     "status": "completed"
    },
    "tags": []
   },
   "outputs": [],
   "source": [
    "path = '/kaggle/input/jet-images-train-val-test/jet-images_micro.hdf5'\n",
    "classes = [\"general\", \"W-boson\"]\n",
    "    \n",
    "h5_file = h5py.File(path, 'r')\n",
    "signal_data = h5_file['signal']\n",
    "image_data = h5_file['image']\n",
    "\n",
    "\n",
    "\n",
    "def label_func(x):\n",
    "    signal = signal_data[int(x)]\n",
    "    return classes[int(signal)]\n",
    "\n",
    "def get_items(x):\n",
    "    l = len(image_data)\n",
    "    return [str(i) for i in range(l)]\n",
    "\n",
    "def get_x(x):\n",
    "    return torch.from_numpy(image_data[int(x)])"
   ]
  },
  {
   "cell_type": "code",
   "execution_count": 12,
   "id": "b9a42264",
   "metadata": {
    "execution": {
     "iopub.execute_input": "2023-04-20T18:57:34.449567Z",
     "iopub.status.busy": "2023-04-20T18:57:34.449280Z",
     "iopub.status.idle": "2023-04-20T18:57:34.455292Z",
     "shell.execute_reply": "2023-04-20T18:57:34.454175Z"
    },
    "papermill": {
     "duration": 0.014091,
     "end_time": "2023-04-20T18:57:34.457460",
     "exception": false,
     "start_time": "2023-04-20T18:57:34.443369",
     "status": "completed"
    },
    "tags": []
   },
   "outputs": [],
   "source": [
    "val_dblock = DataBlock(blocks    = (ImageBlock, CategoryBlock),\n",
    "                   get_items = get_items,\n",
    "                   get_x = get_x,\n",
    "                   get_y     = label_func,\n",
    "                   splitter  = RandomSplitter(valid_pct=0.2, seed=42),\n",
    "                   item_tfms=[Resize(200, method='squish')])"
   ]
  },
  {
   "cell_type": "code",
   "execution_count": 13,
   "id": "fad04a3d",
   "metadata": {
    "execution": {
     "iopub.execute_input": "2023-04-20T18:57:34.468263Z",
     "iopub.status.busy": "2023-04-20T18:57:34.467997Z",
     "iopub.status.idle": "2023-04-20T18:57:34.995043Z",
     "shell.execute_reply": "2023-04-20T18:57:34.994102Z"
    },
    "papermill": {
     "duration": 0.534848,
     "end_time": "2023-04-20T18:57:34.997132",
     "exception": false,
     "start_time": "2023-04-20T18:57:34.462284",
     "status": "completed"
    },
    "tags": []
   },
   "outputs": [],
   "source": [
    "dls_val = val_dblock.dataloaders(path)"
   ]
  },
  {
   "cell_type": "code",
   "execution_count": 14,
   "id": "b960210f",
   "metadata": {
    "execution": {
     "iopub.execute_input": "2023-04-20T18:57:35.009261Z",
     "iopub.status.busy": "2023-04-20T18:57:35.007796Z",
     "iopub.status.idle": "2023-04-20T18:57:35.635496Z",
     "shell.execute_reply": "2023-04-20T18:57:35.634034Z"
    },
    "papermill": {
     "duration": 0.637191,
     "end_time": "2023-04-20T18:57:35.639262",
     "exception": false,
     "start_time": "2023-04-20T18:57:35.002071",
     "status": "completed"
    },
    "tags": []
   },
   "outputs": [
    {
     "data": {
      "image/png": "[encoded data removed]",
      "text/plain": [
       "<Figure size 900x600 with 6 Axes>"
      ]
     },
     "metadata": {},
     "output_type": "display_data"
    }
   ],
   "source": [
    "dls_val.show_batch(max_n=6)"
   ]
  },
  {
   "cell_type": "code",
   "execution_count": 15,
   "id": "040f077b",
   "metadata": {
    "execution": {
     "iopub.execute_input": "2023-04-20T18:57:35.651785Z",
     "iopub.status.busy": "2023-04-20T18:57:35.650911Z",
     "iopub.status.idle": "2023-04-20T18:57:35.655676Z",
     "shell.execute_reply": "2023-04-20T18:57:35.654637Z"
    },
    "papermill": {
     "duration": 0.012986,
     "end_time": "2023-04-20T18:57:35.657801",
     "exception": false,
     "start_time": "2023-04-20T18:57:35.644815",
     "status": "completed"
    },
    "tags": []
   },
   "outputs": [],
   "source": [
    "learn.dls= dls_val"
   ]
  },
  {
   "cell_type": "code",
   "execution_count": 16,
   "id": "3be9661e",
   "metadata": {
    "execution": {
     "iopub.execute_input": "2023-04-20T18:57:35.669034Z",
     "iopub.status.busy": "2023-04-20T18:57:35.668754Z",
     "iopub.status.idle": "2023-04-20T18:58:08.616786Z",
     "shell.execute_reply": "2023-04-20T18:58:08.613964Z"
    },
    "papermill": {
     "duration": 32.960558,
     "end_time": "2023-04-20T18:58:08.623449",
     "exception": false,
     "start_time": "2023-04-20T18:57:35.662891",
     "status": "completed"
    },
    "tags": []
   },
   "outputs": [
    {
     "data": {
      "text/html": [
       "\n",
       "<style>\n",
       "    /* Turns off some styling */\n",
       "    progress {\n",
       "        /* gets rid of default border in Firefox and Opera. */\n",
       "        border: none;\n",
       "        /* Needs to be in here for Safari polyfill so background images work as expected. */\n",
       "        background-size: auto;\n",
       "    }\n",
       "    progress:not([value]), progress:not([value])::-webkit-progress-bar {\n",
       "        background: repeating-linear-gradient(45deg, #7e7e7e, #7e7e7e 10px, #5c5c5c 10px, #5c5c5c 20px);\n",
       "    }\n",
       "    .progress-bar-interrupted, .progress-bar-interrupted::-webkit-progress-bar {\n",
       "        background: #F44336;\n",
       "    }\n",
       "</style>\n"
      ],
      "text/plain": [
       "<IPython.core.display.HTML object>"
      ]
     },
     "metadata": {},
     "output_type": "display_data"
    },
    {
     "data": {
      "text/html": [
       "<table border=\"1\" class=\"dataframe\">\n",
       "  <thead>\n",
       "    <tr style=\"text-align: left;\">\n",
       "      <th>epoch</th>\n",
       "      <th>train_loss</th>\n",
       "      <th>valid_loss</th>\n",
       "      <th>accuracy</th>\n",
       "      <th>time</th>\n",
       "    </tr>\n",
       "  </thead>\n",
       "  <tbody>\n",
       "    <tr>\n",
       "      <td>0</td>\n",
       "      <td>0.394991</td>\n",
       "      <td>0.457774</td>\n",
       "      <td>0.801719</td>\n",
       "      <td>00:32</td>\n",
       "    </tr>\n",
       "  </tbody>\n",
       "</table>"
      ],
      "text/plain": [
       "<IPython.core.display.HTML object>"
      ]
     },
     "metadata": {},
     "output_type": "display_data"
    }
   ],
   "source": [
    "learn.fine_tune(\n",
    "    0, cbs=EarlyStoppingCallback(monitor='accuracy', min_delta=0.01, patience=3),\n",
    ")"
   ]
  },
  {
   "cell_type": "code",
   "execution_count": 17,
   "id": "2304cff5",
   "metadata": {
    "execution": {
     "iopub.execute_input": "2023-04-20T18:58:08.654897Z",
     "iopub.status.busy": "2023-04-20T18:58:08.654374Z",
     "iopub.status.idle": "2023-04-20T18:58:08.846304Z",
     "shell.execute_reply": "2023-04-20T18:58:08.845044Z"
    },
    "papermill": {
     "duration": 0.214337,
     "end_time": "2023-04-20T18:58:08.852604",
     "exception": false,
     "start_time": "2023-04-20T18:58:08.638267",
     "status": "completed"
    },
    "tags": []
   },
   "outputs": [
    {
     "name": "stdout",
     "output_type": "stream",
     "text": [
      "torch.Size([64, 1, 200, 200])\n"
     ]
    }
   ],
   "source": [
    "xb, yb = dls_val.one_batch()\n",
    "print(xb.shape)"
   ]
  }
 ],
 "metadata": {
  "kernelspec": {
   "display_name": "Python 3",
   "language": "python",
   "name": "python3"
  },
  "language_info": {
   "codemirror_mode": {
    "name": "ipython",
    "version": 3
   },
   "file_extension": ".py",
   "mimetype": "text/x-python",
   "name": "python",
   "nbconvert_exporter": "python",
   "pygments_lexer": "ipython3",
   "version": "3.7.12"
  },
  "papermill": {
   "default_parameters": {},
   "duration": 4432.927015,
   "end_time": "2023-04-20T18:58:11.962901",
   "environment_variables": {},
   "exception": null,
   "input_path": "__notebook__.ipynb",
   "output_path": "__notebook__.ipynb",
   "parameters": {},
   "start_time": "2023-04-20T17:44:19.035886",
   "version": "2.4.0"
  }
 },
 "nbformat": 4,
 "nbformat_minor": 5
}
